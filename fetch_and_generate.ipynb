from pathlib import Path
from nbformat import v4 as nbf

# Create notebook cells
cells = []

# Cell 1: Imports
cells.append(nbf.new_code_cell("""
import os
import json
import time
import requests
import pandas as pd
from datetime import datetime
"""))

# Cell 2: Setup GitHub token and headers
cells.append(nbf.new_code_cell("""
owner = "barisohussein"
repo = "barisohussein"
branch = "master"
per_page = 100
page = 1

token = os.environ.get("GITHUB_TOKEN")
if not token:
    raise ValueError("Missing GITHUB_TOKEN environment variable")

headers = {
    "Authorization": f"Bearer {token}",
    "Accept": "application/vnd.github.v3+json"
}
"""))

# Cell 3: Fetch merged PRs
cells.append(nbf.new_code_cell("""
merged_prs = []

while True:
    url = f"https://api.github.com/repos/{owner}/{repo}/pulls"
    params = {
        "state": "closed",
        "base": branch,
        "per_page": per_page,
        "page": page
    }

    response = requests.get(url, headers=headers, params=params)
    if response.status_code != 200:
        raise Exception(f"GitHub API error: {response.status_code} {response.text}")

    data = response.json()
    if not data:
        break

    for pr in data:
        if pr.get("merged_at"):
            pr_detail_url = pr["url"]
            pr_detail_resp = requests.get(pr_detail_url, headers=headers)
            if pr_detail_resp.status_code != 200:
                print(f"Warning: Failed to fetch details for PR #{pr['number']}")
                continue
            pr_detail = pr_detail_resp.json()

            merged_prs.append({
                "id": pr_detail["id"],
                "number": pr_detail["number"],
                "title": pr_detail["title"],
                "user": pr_detail["user"]["login"],
                "merged_at": pr_detail["merged_at"],
                "merged_by": pr_detail["merged_by"]["login"] if pr_detail.get("merged_by") else None,
                "created_at": pr_detail["created_at"],
                "closed_at": pr_detail["closed_at"],
                "body": pr_detail["body"],
                "comments": pr_detail["comments"],
                "commits": pr_detail["commits"],
                "changed_files": pr_detail["changed_files"],
                "additions": pr_detail["additions"],
                "deletions": pr_detail["deletions"]
            })

            time.sleep(0.1)

    page += 1
"""))

# Cell 4: Save merged PRs to file
cells.append(nbf.new_code_cell("""
Path("docs").mkdir(exist_ok=True)
with open("docs/merged_prs_latest.json", "w") as f:
    json.dump(merged_prs, f, indent=2)

print(f"Saved {len(merged_prs)} merged PRs to docs/merged_prs_latest.json")
"""))

# Cell 5: Summarize PRs by user and save
cells.append(nbf.new_code_cell("""
df = pd.DataFrame(merged_prs)

# Normalize user field if nested
if 'user' in df.columns and isinstance(df['user'][0], dict):
    df['user'] = df['user'].apply(lambda x: x.get('login', 'unknown'))

pr_count_by_user = df.groupby("user").size().reset_index(name="pr_count")

# Save summary
pr_count_by_user.to_json("docs/pr_summary.json", orient="records", indent=2)
print("Saved summarized PR data to docs/pr_summary.json")
"""))

# Create notebook
notebook = nbf.new_notebook(cells=cells)
notebook_path = Path("fetch_and_generate.ipynb")
notebook_path.write_text(nbf.writes_json(notebook))

notebook_path.name
